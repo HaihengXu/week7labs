{
 "cells": [
  {
   "cell_type": "markdown",
   "id": "141d7f0c-4c8d-43df-958e-105430b1bcd3",
   "metadata": {},
   "source": [
    "# Week 6 Instructor-led lab: Data Manipulation\n",
    "\n",
    "Author: Haiheng Xu  \n",
    "Course: BGEN632 Grad. Intro. to Python  \n",
    "Term: Spring 2025  \n",
    "Date: April 13, 2025  "
   ]
  },
  {
   "cell_type": "markdown",
   "id": "6bae4a3a-104a-4f16-913e-91b950adb8c0",
   "metadata": {},
   "source": [
    "### Import Modules"
   ]
  },
  {
   "cell_type": "code",
   "execution_count": 89,
   "id": "06d8dde7-6c44-4cbc-9c2e-e7ba49b760cf",
   "metadata": {},
   "outputs": [],
   "source": [
    "import os\n",
    "import pandas as pd\n",
    "import numpy as np\n",
    "from sklearn.model_selection import KFold"
   ]
  },
  {
   "cell_type": "markdown",
   "id": "bdb190a2-9acb-47b1-b1c6-c514a3937a2b",
   "metadata": {},
   "source": [
    "### Access Data"
   ]
  },
  {
   "cell_type": "code",
   "execution_count": 92,
   "id": "7e323b2d-8ca3-43dc-8693-9472a8b6ad91",
   "metadata": {},
   "outputs": [],
   "source": [
    "os.chdir('C:\\\\Users\\\\haihe\\\\Desktop\\\\Classes\\\\Intro to Python\\\\week7labs\\\\data')\n",
    "chd = pd.read_csv(\"CaliforniaHospitalData.csv\")\n",
    "chdp = pd.read_csv(\"CaliforniaHospitalData_Personnel.txt\", delimiter='\\t')"
   ]
  },
  {
   "cell_type": "code",
   "execution_count": 94,
   "id": "82fecacf-415d-4a18-8e6d-ceb56cb04718",
   "metadata": {},
   "outputs": [
    {
     "name": "stdout",
     "output_type": "stream",
     "text": [
      "    HospitalID  Work_ID   LastName FirstName Gender  PositionID  \\\n",
      "0        35665   351131  Cherukuri    Dileep      M           4   \n",
      "1        12145   756481  Rodriguez      Jose      M           1   \n",
      "2        45771   756481  Rodriguez      Jose      M           1   \n",
      "3        43353   756481  Rodriguez      Jose      M           4   \n",
      "4        17718   811240    Charles   Kenneth      M           1   \n",
      "..         ...      ...        ...       ...    ...         ...   \n",
      "59       33283   704360      Frank    Vernon      M           1   \n",
      "60       33242   704360      Frank    Vernon      M           4   \n",
      "61       46342   768057     Tanner  Patricia      F           3   \n",
      "62       43437   768057     Tanner  Patricia      F           1   \n",
      "63       29823   768057     Tanner  Patricia      F           3   \n",
      "\n",
      "               PositionTitle  Compensation  MaxTerm StartDate         Phone  \\\n",
      "0   Safety Inspection Member         23987        2  1/1/2019  405-564-5580   \n",
      "1    Regional Representative         46978        4  1/1/2009  405-744-2238   \n",
      "2    Regional Representative         46978        4  1/1/2011  405-744-2238   \n",
      "3   Safety Inspection Member         23987        2  1/1/2011  405-744-2238   \n",
      "4    Regional Representative         46978        4  1/1/2009  405-744-3412   \n",
      "..                       ...           ...      ...       ...           ...   \n",
      "59   Regional Representative         46978        4  1/1/2012  801-687-2845   \n",
      "60  Safety Inspection Member         23987        2  1/1/2011  801-687-2845   \n",
      "61           Acting Director        248904        8  1/1/2011  801-687-7877   \n",
      "62   Regional Representative         46978        4  1/1/2010  801-687-7877   \n",
      "63           Acting Director        248904        8  1/1/2009  801-687-7877   \n",
      "\n",
      "                            Email  \n",
      "0    dileep.cherukuri@okstate.edu  \n",
      "1    jose.rodriguez@edihealth.com  \n",
      "2    jose.rodriguez@edihealth.com  \n",
      "3    jose.rodriguez@edihealth.com  \n",
      "4   kenneth.charles@edihealth.com  \n",
      "..                            ...  \n",
      "59           vernon.frank@ihc.com  \n",
      "60           vernon.frank@ihc.com  \n",
      "61  patricia.tanner@prohealth.net  \n",
      "62  patricia.tanner@prohealth.net  \n",
      "63  patricia.tanner@prohealth.net  \n",
      "\n",
      "[64 rows x 12 columns]\n"
     ]
    }
   ],
   "source": [
    "print(chdp)"
   ]
  },
  {
   "cell_type": "code",
   "execution_count": 96,
   "id": "174729b5-8d1b-4954-8fdf-8a0a7427ca86",
   "metadata": {},
   "outputs": [],
   "source": [
    "# Merging the data sets\n",
    "\n",
    "new_chd = chd.merge(chdp, on='HospitalID')"
   ]
  },
  {
   "cell_type": "code",
   "execution_count": 98,
   "id": "d03236f8-316a-40ec-afc6-948101b883e9",
   "metadata": {},
   "outputs": [],
   "source": [
    "# Removing columns\n",
    "\n",
    "new_chd.drop(['Work_ID', 'PositionID', 'Website'], axis=1, inplace=True)"
   ]
  },
  {
   "cell_type": "code",
   "execution_count": 100,
   "id": "7f04e200-c90b-4cee-938b-419bdd8d6cb4",
   "metadata": {},
   "outputs": [],
   "source": [
    "# Select hospitals with conditions\n",
    "new_chd_df = new_chd[(new_chd.Teaching == 'Small/Rural') & (new_chd.AvlBeds >= 15)& (new_chd.OperInc >= 0)]\n"
   ]
  },
  {
   "cell_type": "code",
   "execution_count": 102,
   "id": "2a1e4f92-85ff-4421-adf6-695744ea9fbd",
   "metadata": {},
   "outputs": [],
   "source": [
    "# Exporting the Data\n",
    "new_chd_df.to_csv('C:\\\\Users\\\\haihe\\\\Desktop\\\\Classes\\\\Intro to Python\\\\week7labs\\\\data\\\\hospital_data_new.txt', sep='\\t')"
   ]
  },
  {
   "cell_type": "code",
   "execution_count": 104,
   "id": "5171270b-a3ab-4c18-a3bb-9e8787ff6532",
   "metadata": {},
   "outputs": [],
   "source": [
    "# Open the newly created file\n",
    "new_chd_df = pd.read_csv(\"hospital_data_new.txt\", delimiter='\\t')"
   ]
  },
  {
   "cell_type": "code",
   "execution_count": 106,
   "id": "bc52481a-15d6-44f7-8ec9-01f3601e6960",
   "metadata": {},
   "outputs": [],
   "source": [
    "# Rename columns\n",
    "\n",
    "new_chd_df.rename(columns = {'NoFTE':'FullTimeCount'}, inplace = True)\n",
    "new_chd_df.rename(columns = {'NetPatRev':'NetPatientRevenue'}, inplace = True)\n",
    "new_chd_df.rename(columns = {'InOperExp':'InpatientOperExp'}, inplace = True)\n",
    "new_chd_df.rename(columns = {'OutOperExp':'OutpatientOperExp'}, inplace = True)\n",
    "new_chd_df.rename(columns = {'OperRev':'Operating_Revenue'}, inplace = True)\n",
    "new_chd_df.rename(columns = {'OperInc':'Operating_Income'}, inplace = True)"
   ]
  },
  {
   "cell_type": "code",
   "execution_count": 108,
   "id": "8a13be2a-d90f-4f6d-b542-9f225d2b9665",
   "metadata": {},
   "outputs": [],
   "source": [
    "# Insert records\n",
    "\n",
    "# Create dictionaries for the two new positions\n",
    "my_position_1 = {'HospitalID ': '46996',\n",
    "           'Name': 'Ridgecrest Regional Hospital',\n",
    "           'LastName': 'Xu',\n",
    "           'FirstName': 'Haiheng' ,\n",
    "           'Gender': 'M',\n",
    "           'PositionTitle': 'Regional Representative',\n",
    "           'Compensation': '46978',\n",
    "           'MaxTerm': '4',\n",
    "           'StartDate': '4/13/2025'\n",
    "          }\n",
    "\n",
    "my_position_2 = {'HospitalID ': '13738',\n",
    "           'Name': 'St. Mary Medical Center',\n",
    "           'LastName': 'Xu',\n",
    "           'FirstName': 'Haiheng' ,\n",
    "           'Gender': 'M',\n",
    "           'PositionTitle': 'Acting Director',\n",
    "           'Compensation': '248904',\n",
    "           'MaxTerm': '8',\n",
    "           'StartDate': '4/13/2025'\n",
    "          }\n",
    "\n",
    "# Convert the dictionaries to DataFrames\n",
    "df_my_position_1 = pd.DataFrame([my_position_1])\n",
    "df_my_position_2 = pd.DataFrame([my_position_2])\n",
    "\n",
    "# Use concat to merge dataframes\n",
    "\n",
    "new_merge = pd.concat([new_chd_df, df_my_position_1, df_my_position_2], ignore_index=True)"
   ]
  },
  {
   "cell_type": "code",
   "execution_count": 110,
   "id": "e94aa02e-8c1e-400a-b64e-eff9a5392ea4",
   "metadata": {},
   "outputs": [],
   "source": [
    "# Filtering Data\n",
    "\n",
    "# Select all hospitals that are non-profit with more than 250 employees, unless the net patient revenue is smaller than $109,000\n",
    "new_merge = new_merge[(new_merge.TypeControl == 'Non Profit') & (new_merge.FullTimeCount > 250) & (new_merge.NetPatientRevenue >= 109000)]\n",
    "\n",
    "# Remove the columns containing employee information and save it as a new DataFrame\n",
    "new_merge1 = new_merge.drop (['LastName', 'FirstName', 'Gender', 'PositionTitle', 'Compensation','MaxTerm', 'StartDate', 'Phone', 'Email'], axis = 1)"
   ]
  },
  {
   "cell_type": "code",
   "execution_count": 112,
   "id": "9b798dd1-7d86-41b6-8ca8-5b37d21d2827",
   "metadata": {},
   "outputs": [],
   "source": [
    "# Select all the *Regional Representatives* who work at a hospital with operating income greater than $100,000.\n",
    "\n",
    "new_merge2 = new_merge[(new_merge.PositionTitle == 'Regional Representatives')& (new_merge.Operating_Income > 100000)]"
   ]
  },
  {
   "cell_type": "code",
   "execution_count": 114,
   "id": "8dde2e06-8ec7-4f5e-bd98-9ed8eb8224bc",
   "metadata": {},
   "outputs": [
    {
     "name": "stdout",
     "output_type": "stream",
     "text": [
      "0   2009-01-01\n",
      "2   2011-01-01\n",
      "3   2012-01-01\n",
      "5   2011-01-01\n",
      "6   2011-01-01\n",
      "Name: StartDate, dtype: datetime64[ns]\n"
     ]
    }
   ],
   "source": [
    "# Convert any date-time columns into a datetime datatype. Confirm your changes by outputting the data types for all columns.\n",
    "# Additionally, output the first 5 records of the column(s) you converted.\n",
    "\n",
    "new_merge['StartDate'] = pd.to_datetime(new_merge['StartDate'])\n",
    "new_merge.dtypes\n",
    "print(new_merge['StartDate'].head(5))"
   ]
  },
  {
   "cell_type": "markdown",
   "id": "3cc7760c-b025-47e9-b289-741936968ccf",
   "metadata": {},
   "source": [
    "### Reference"
   ]
  },
  {
   "cell_type": "code",
   "execution_count": null,
   "id": "0cfc5aeb-e5d2-4fd0-8176-fae9038b3e98",
   "metadata": {},
   "outputs": [],
   "source": [
    "1.Mahmood. (2022, February 15). Appending row to dataframe with concat() [Stack Overflow question]. Stack Overflow.  https://stackoverflow.com/questions/71132469/appending-row-to-dataframe-with-concat"
   ]
  }
 ],
 "metadata": {
  "kernelspec": {
   "display_name": "Python [conda env:base] *",
   "language": "python",
   "name": "conda-base-py"
  },
  "language_info": {
   "codemirror_mode": {
    "name": "ipython",
    "version": 3
   },
   "file_extension": ".py",
   "mimetype": "text/x-python",
   "name": "python",
   "nbconvert_exporter": "python",
   "pygments_lexer": "ipython3",
   "version": "3.12.7"
  }
 },
 "nbformat": 4,
 "nbformat_minor": 5
}
